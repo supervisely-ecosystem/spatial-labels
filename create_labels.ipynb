{
 "cells": [
  {
   "cell_type": "code",
   "execution_count": 1,
   "id": "57bb282c-9efd-49ee-bc36-e2b6f3bd84c6",
   "metadata": {},
   "outputs": [],
   "source": [
    "import os\n",
    "import cv2\n",
    "import supervisely as sly\n",
    "from dotenv import load_dotenv"
   ]
  },
  {
   "cell_type": "markdown",
   "id": "9e65f7e4-c2ef-4f93-97d2-c18032e91da2",
   "metadata": {},
   "source": [
    "## Init API client"
   ]
  },
  {
   "cell_type": "code",
   "execution_count": 2,
   "id": "957fc730-abce-4562-b325-5fe95b887dd3",
   "metadata": {},
   "outputs": [],
   "source": [
    "api = sly.Api.from_env()"
   ]
  },
  {
   "cell_type": "code",
   "execution_count": 5,
   "id": "48dc7377-2655-4aad-8920-e3fd764a01e7",
   "metadata": {},
   "outputs": [],
   "source": [
    "workspace_id = int(os.environ[\"WORKSPACE_ID\"])\n",
    "workspace = api.workspace.get_info_by_id(workspace_id)\n",
    "if workspace is None:\n",
    "    print(\"you should put correct workspaceId value to local.env\")\n",
    "    raise ValueError(f\"Workspace with id={workspace_id} not found\")"
   ]
  },
  {
   "cell_type": "markdown",
   "id": "62ca3a60-38b3-4b6a-b596-b6f3ffb1b2bf",
   "metadata": {},
   "source": [
    "## Create project"
   ]
  },
  {
   "cell_type": "code",
   "execution_count": 8,
   "id": "0e557c68-a74a-4f72-9183-29f1f991b99c",
   "metadata": {},
   "outputs": [
    {
     "name": "stdout",
     "output_type": "stream",
     "text": [
      "Project has been sucessfully created, id=13864\n"
     ]
    }
   ],
   "source": [
    "project = api.project.create(workspace.id, name=\"Demo\", change_name_if_conflict=True)\n",
    "dataset = api.dataset.create(project.id, name=\"berries\")\n",
    "print(f\"Project has been sucessfully created, id={project.id}\")"
   ]
  },
  {
   "cell_type": "markdown",
   "id": "f6ec43b0-9795-447c-8a41-2abde7f2ab82",
   "metadata": {},
   "source": [
    "## Create annotation classes"
   ]
  },
  {
   "cell_type": "code",
   "execution_count": 9,
   "id": "f5c4cd1c-5dde-4b98-985d-cc73b51fed27",
   "metadata": {},
   "outputs": [],
   "source": [
    "strawberry = sly.ObjClass(\"strawberry\", sly.Rectangle, color=[0, 0, 255])\n",
    "raspberry = sly.ObjClass(\"raspberry\", sly.Polygon, color=[0, 255, 0])\n",
    "blackberry = sly.ObjClass(\"blackberry\", sly.Bitmap, color=[255, 255, 0])\n",
    "berry_center = sly.ObjClass(\"berry_center\", sly.Point, color=[0, 255, 255])\n",
    "separator = sly.ObjClass(\"separator\", sly.Polyline)  # color will be generated randomly"
   ]
  },
  {
   "cell_type": "code",
   "execution_count": 14,
   "id": "db12d1fd-3173-46ac-8cd6-f41178e09f2b",
   "metadata": {},
   "outputs": [
    {
     "name": "stdout",
     "output_type": "stream",
     "text": [
      "ProjectMeta:\n",
      "Object Classes\n",
      "+--------------+-----------+----------------+--------+\n",
      "|     Name     |   Shape   |     Color      | Hotkey |\n",
      "+--------------+-----------+----------------+--------+\n",
      "|  strawberry  | Rectangle |  [0, 0, 255]   |        |\n",
      "|  raspberry   |  Polygon  |  [0, 255, 0]   |        |\n",
      "|  blackberry  |   Bitmap  | [255, 255, 0]  |        |\n",
      "| berry_center |   Point   | [0, 255, 255]  |        |\n",
      "|  separator   |  Polyline | [138, 15, 105] |        |\n",
      "+--------------+-----------+----------------+--------+\n",
      "Tags\n",
      "+------+------------+-----------------+--------+---------------+--------------------+\n",
      "| Name | Value type | Possible values | Hotkey | Applicable to | Applicable classes |\n",
      "+------+------------+-----------------+--------+---------------+--------------------+\n",
      "+------+------------+-----------------+--------+---------------+--------------------+\n",
      "\n"
     ]
    }
   ],
   "source": [
    "project_meta = sly.ProjectMeta(\n",
    "    obj_classes=[strawberry, raspberry, blackberry, berry_center, separator]\n",
    ")\n",
    "print(project_meta)"
   ]
  },
  {
   "cell_type": "code",
   "execution_count": 11,
   "id": "30d073b9-038c-4cb4-85aa-4dd27f623395",
   "metadata": {},
   "outputs": [],
   "source": [
    "api.project.update_meta(project.id, project_meta.to_json())"
   ]
  },
  {
   "cell_type": "markdown",
   "id": "fee4380c-14f8-414f-a28f-34f77140304c",
   "metadata": {},
   "source": [
    "## Create rectangle"
   ]
  },
  {
   "cell_type": "code",
   "execution_count": 15,
   "id": "f68fc6f2-e32a-4101-8106-316e3309cb99",
   "metadata": {},
   "outputs": [],
   "source": [
    "bbox = sly.Rectangle(top=127, left=1726, bottom=1087, right=2560)\n",
    "label1 = sly.Label(geometry=bbox, obj_class=strawberry)"
   ]
  },
  {
   "cell_type": "markdown",
   "id": "cdebde32-5a9f-46c8-b734-5a70906748c8",
   "metadata": {},
   "source": [
    "## Create polygon"
   ]
  },
  {
   "cell_type": "code",
   "execution_count": 16,
   "id": "8da7e1be-1c0d-4496-9f2d-ca753de00597",
   "metadata": {},
   "outputs": [],
   "source": [
    "polygon = sly.Polygon(\n",
    "    exterior=[\n",
    "        [941, 663],\n",
    "        [976, 874],\n",
    "        [934, 1096],\n",
    "        [819, 1196],\n",
    "        [698, 1228],\n",
    "        [527, 1081],\n",
    "        [439, 1090],\n",
    "        [331, 980],\n",
    "        [359, 808],\n",
    "        [452, 698],\n",
    "        [549, 612],\n",
    "        [762, 564],\n",
    "        [879, 605],\n",
    "    ]\n",
    ")\n",
    "label2 = sly.Label(geometry=polygon, obj_class=raspberry)"
   ]
  },
  {
   "cell_type": "markdown",
   "id": "c6ac8ba5-d345-4fb1-9822-157241afe4a2",
   "metadata": {},
   "source": [
    "## Create masks"
   ]
  },
  {
   "cell_type": "code",
   "execution_count": 31,
   "id": "27b59864-23b3-4d8f-90f1-89f598cc5ec4",
   "metadata": {},
   "outputs": [],
   "source": [
    "labels_masks = []\n",
    "for mask_path in [\n",
    "    \"./data/masks/Blackberry_01.png\",\n",
    "    \"./data/masks/Blackberry_02.png\",\n",
    "    \"./data/masks/Blackberry_03.png\",\n",
    "]:\n",
    "    # read only first channel of an image\n",
    "    image_black_and_white = cv2.imread(mask_path)[:, :, 0]\n",
    "    \n",
    "    # supports masks with values (0, 1) or (0, 255) or (False, True)\n",
    "    mask = sly.Bitmap(image_black_and_white)\n",
    "    label = sly.Label(geometry=mask, obj_class=blackberry)\n",
    "    labels_masks.append(label)"
   ]
  },
  {
   "cell_type": "markdown",
   "id": "77b0028a-06ee-4c44-8b7f-b8dcd0eca4d9",
   "metadata": {},
   "source": [
    "## Create image annotation"
   ]
  },
  {
   "cell_type": "code",
   "execution_count": 32,
   "id": "8bf2dfd1-83c1-4ef2-9e44-9f9d995f683d",
   "metadata": {},
   "outputs": [],
   "source": [
    "image_path = \"data/berries-01.jpg\"\n",
    "height, width = cv2.imread(image_path).shape[0:2]\n",
    "\n",
    "# result image annotation\n",
    "all_labels = [label1, label2]\n",
    "all_labels.extend(labels_masks)\n",
    "ann = sly.Annotation(img_size=[height, width], labels=all_labels)"
   ]
  },
  {
   "cell_type": "markdown",
   "id": "f2beda10-29a8-447e-a23e-5572c8e05805",
   "metadata": {},
   "source": [
    "## Upload image with annotation"
   ]
  },
  {
   "cell_type": "code",
   "execution_count": 33,
   "id": "14308f7b-df85-4144-a583-c9cb90191019",
   "metadata": {},
   "outputs": [
    {
     "name": "stdout",
     "output_type": "stream",
     "text": [
      "Image has been sucessfully uploaded, id=8480921\n"
     ]
    }
   ],
   "source": [
    "image_name = sly.fs.get_file_name_with_ext(image_path)\n",
    "image_info = api.image.upload_path(dataset.id, image_name, image_path)\n",
    "print(f\"Image has been sucessfully uploaded, id={image_info.id}\")"
   ]
  },
  {
   "cell_type": "code",
   "execution_count": 34,
   "id": "5ee5f082-b6aa-4b78-8696-91d22f41f13d",
   "metadata": {},
   "outputs": [
    {
     "name": "stdout",
     "output_type": "stream",
     "text": [
      "Annotation has been sucessfully uploaded to the image berries-01.jpg\n"
     ]
    }
   ],
   "source": [
    "api.annotation.upload_ann(image_info.id, ann)\n",
    "print(f\"Annotation has been sucessfully uploaded to the image {image_name}\")"
   ]
  },
  {
   "cell_type": "markdown",
   "id": "d95253ba-eb76-4314-8b02-0f3534b5d906",
   "metadata": {},
   "source": [
    "## Create points"
   ]
  },
  {
   "cell_type": "code",
   "execution_count": 36,
   "id": "7d0ddc1c-e54f-4bf7-8ef7-cdffe9efda1d",
   "metadata": {},
   "outputs": [],
   "source": [
    "labels_points = []\n",
    "for [row, col] in [\n",
    "    [1313, 313],\n",
    "    [1714, 1061],\n",
    "    [1318, 1851],\n",
    "    [554, 1912],\n",
    "    [190, 808],\n",
    "    [941, 1094],\n",
    "]:\n",
    "    point = sly.Point(row, col)\n",
    "    label = sly.Label(geometry=point, obj_class=berry_center)\n",
    "    labels_points.append(label)"
   ]
  },
  {
   "cell_type": "markdown",
   "id": "29e6b524-fc50-47d2-838d-32500731ecf4",
   "metadata": {},
   "source": [
    "## Create polyline"
   ]
  },
  {
   "cell_type": "code",
   "execution_count": 37,
   "id": "78adf5ba-0fad-438f-9a56-8bd00d7c48f9",
   "metadata": {},
   "outputs": [],
   "source": [
    "polyline = sly.Polyline(\n",
    "    [[883, 443], [1360, 803], [1395, 1372], [928, 1676], [458, 1372], [552, 554]]\n",
    ")\n",
    "label_line = sly.Label(geometry=polyline, obj_class=separator)"
   ]
  },
  {
   "cell_type": "markdown",
   "id": "51de97e5-92cc-4362-ad14-bdbe2eff252c",
   "metadata": {},
   "source": [
    "## Upload the second image with annotation "
   ]
  },
  {
   "cell_type": "code",
   "execution_count": 39,
   "id": "be90ee8f-a8cd-43d2-a2f9-81b5fc656173",
   "metadata": {},
   "outputs": [],
   "source": [
    "image_path = \"data/berries-02.jpg\"\n",
    "height, width = cv2.imread(image_path).shape[0:2]"
   ]
  },
  {
   "cell_type": "code",
   "execution_count": 40,
   "id": "2be8b820-f2e9-4a8b-a277-7c246309b97f",
   "metadata": {},
   "outputs": [
    {
     "name": "stdout",
     "output_type": "stream",
     "text": [
      "Image has been sucessfully uploaded, id=8480922\n",
      "Annotation has been sucessfully uploaded to the image berries-02.jpg\n"
     ]
    }
   ],
   "source": [
    "# result image annotation\n",
    "ann = sly.Annotation(img_size=[height, width], labels=[*labels_points, label_line])\n",
    "\n",
    "# upload image to the dataset on server\n",
    "image_name = sly.fs.get_file_name_with_ext(image_path)\n",
    "image_info = api.image.upload_path(dataset.id, image_name, image_path)\n",
    "print(f\"Image has been sucessfully uploaded, id={image_info.id}\")\n",
    "\n",
    "# upload annotation to the image on server\n",
    "api.annotation.upload_ann(image_info.id, ann)\n",
    "print(f\"Annotation has been sucessfully uploaded to the image {image_name}\")"
   ]
  },
  {
   "cell_type": "code",
   "execution_count": null,
   "id": "ff3791fc-70c9-43f4-a071-a56de9f863cf",
   "metadata": {},
   "outputs": [],
   "source": []
  }
 ],
 "metadata": {
  "kernelspec": {
   "display_name": "Python 3 (ipykernel)",
   "language": "python",
   "name": "python3"
  },
  "language_info": {
   "codemirror_mode": {
    "name": "ipython",
    "version": 3
   },
   "file_extension": ".py",
   "mimetype": "text/x-python",
   "name": "python",
   "nbconvert_exporter": "python",
   "pygments_lexer": "ipython3",
   "version": "3.10.6"
  }
 },
 "nbformat": 4,
 "nbformat_minor": 5
}
